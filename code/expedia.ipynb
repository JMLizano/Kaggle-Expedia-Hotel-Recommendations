{
 "cells": [
  {
   "cell_type": "code",
   "execution_count": 180,
   "metadata": {
    "collapsed": true
   },
   "outputs": [],
   "source": [
    "import pandas as pd\n",
    "from numpy import *"
   ]
  },
  {
   "cell_type": "code",
   "execution_count": 181,
   "metadata": {
    "collapsed": false
   },
   "outputs": [],
   "source": [
    "df = pd.read_csv(\"./train.csv\", parse_dates=['date_time', 'srch_ci', 'srch_co'], nrows = 5000)\n",
    "\n",
    "# Training solo con bookings y no visitas. No parece funcionar muy bien\n",
    "#df = df[df.is_booking == 1]\n",
    "df['orig_destination_distance'] = df['orig_destination_distance'].fillna(0)\n",
    "\n",
    "# Fechas a ordinales\n",
    "df['date_time'] = df['date_time'].apply(lambda x: x.toordinal())\n",
    "df['srch_ci'] = df['srch_ci'].fillna(0)\n",
    "df['srch_ci'] = df['srch_ci'].apply(lambda x: x.toordinal())\n",
    "df['srch_co'] = df['srch_co'].fillna(0)\n",
    "df['srch_co'] = df['srch_co'].apply(lambda x: x.toordinal())\n",
    "\n",
    "# Nuevo atributo con número de días de la reserva\n",
    "df['days'] = df['srch_co']-df['srch_ci']\n",
    "\n",
    "# Prepara inputs y outputs del clasificador\n",
    "labels = df['hotel_cluster']\n",
    "del df['hotel_cluster']\n",
    "X = array(df)\n",
    "Y = array(labels)"
   ]
  },
  {
   "cell_type": "code",
   "execution_count": 182,
   "metadata": {
    "collapsed": true
   },
   "outputs": [],
   "source": [
    "from sklearn.ensemble import RandomForestClassifier\n",
    "from sklearn import cross_validation\n",
    "forest = RandomForestClassifier(n_estimators = 100)"
   ]
  },
  {
   "cell_type": "code",
   "execution_count": 183,
   "metadata": {
    "collapsed": false
   },
   "outputs": [
    {
     "data": {
      "text/plain": [
       "0.30349999999999999"
      ]
     },
     "execution_count": 183,
     "metadata": {},
     "output_type": "execute_result"
    }
   ],
   "source": [
    "X_train, X_test, y_train, y_test = cross_validation.train_test_split(X, Y, test_size=0.4, random_state=0)\n",
    "\n",
    "forest = forest.fit(X_train,list(y_train))\n",
    "\n",
    "forest.score(X_test,list(y_test))"
   ]
  },
  {
   "cell_type": "code",
   "execution_count": null,
   "metadata": {
    "collapsed": true
   },
   "outputs": [],
   "source": []
  }
 ],
 "metadata": {
  "kernelspec": {
   "display_name": "Python 2",
   "language": "python",
   "name": "python2"
  },
  "language_info": {
   "codemirror_mode": {
    "name": "ipython",
    "version": 2
   },
   "file_extension": ".py",
   "mimetype": "text/x-python",
   "name": "python",
   "nbconvert_exporter": "python",
   "pygments_lexer": "ipython2",
   "version": "2.7.11"
  }
 },
 "nbformat": 4,
 "nbformat_minor": 0
}
